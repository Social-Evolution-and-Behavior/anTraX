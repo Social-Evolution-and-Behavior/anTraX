{
 "cells": [
  {
   "cell_type": "code",
   "execution_count": 8,
   "metadata": {},
   "outputs": [],
   "source": [
    "import antrax as ax\n",
    "from antrax import temperature_project_utils as tpu\n",
    "import numpy as np"
   ]
  },
  {
   "cell_type": "code",
   "execution_count": 4,
   "metadata": {},
   "outputs": [],
   "source": [
    "expdir = '/Volumes/Asaf Lab Disk/Temperature/Untagged/20190607_BB_untagged_20/var_amp_2019_06_10_15_39_31/var_amp_2019_06_10_15_39_31_cam_0'"
   ]
  },
  {
   "cell_type": "code",
   "execution_count": 5,
   "metadata": {},
   "outputs": [
    {
     "name": "stdout",
     "output_type": "stream",
     "text": [
      "15/06/21 12:28:24 -I- Loaded experiment var_amp_2019_06_10_15_39_31_cam_0, session antrax\n"
     ]
    }
   ],
   "source": [
    "e = ax.axExperiment(expdir)"
   ]
  },
  {
   "cell_type": "code",
   "execution_count": 9,
   "metadata": {},
   "outputs": [
    {
     "name": "stdout",
     "output_type": "stream",
     "text": [
      "15/06/21 12:30:00 -W- Could not load xy file for video 1\n",
      "15/06/21 12:30:00 -W- Could not load xy file for video 2\n",
      "15/06/21 12:30:00 -W- Could not load xy file for video 3\n",
      "15/06/21 12:30:00 -W- Could not load xy file for video 4\n",
      "15/06/21 12:30:00 -W- Could not load xy file for video 5\n",
      "15/06/21 12:30:00 -W- Could not load xy file for video 6\n",
      "15/06/21 12:30:00 -W- Could not load xy file for video 7\n",
      "15/06/21 12:30:00 -W- Could not load xy file for video 8\n",
      "15/06/21 12:30:00 -W- Could not load xy file for video 9\n",
      "15/06/21 12:30:00 -W- Could not load xy file for video 10\n",
      "15/06/21 12:30:00 -W- Could not load xy file for video 11\n",
      "15/06/21 12:30:00 -W- Could not load xy file for video 12\n",
      "15/06/21 12:30:00 -W- Could not load xy file for video 13\n",
      "15/06/21 12:30:00 -W- Could not load xy file for video 14\n",
      "15/06/21 12:30:00 -W- Could not load xy file for video 15\n",
      "15/06/21 12:30:00 -W- Could not load xy file for video 16\n",
      "15/06/21 12:30:00 -W- Could not load xy file for video 17\n",
      "15/06/21 12:30:00 -W- Could not load xy file for video 18\n",
      "15/06/21 12:30:00 -W- Could not load xy file for video 19\n",
      "15/06/21 12:30:00 -W- Could not load xy file for video 20\n",
      "15/06/21 12:30:00 -W- Could not load xy file for video 21\n",
      "15/06/21 12:30:00 -W- Could not load xy file for video 22\n",
      "15/06/21 12:30:00 -W- Could not load xy file for video 23\n",
      "15/06/21 12:30:00 -W- Could not load xy file for video 24\n",
      "15/06/21 12:30:00 -W- Could not load xy file for video 25\n",
      "15/06/21 12:30:00 -W- Could not load xy file for video 26\n",
      "15/06/21 12:30:00 -W- Could not load xy file for video 27\n",
      "15/06/21 12:30:00 -W- Could not load xy file for video 28\n",
      "15/06/21 12:30:00 -W- Could not load xy file for video 29\n",
      "15/06/21 12:30:00 -W- Could not load xy file for video 30\n",
      "15/06/21 12:30:00 -W- Could not load xy file for video 31\n",
      "15/06/21 12:30:00 -W- Could not load xy file for video 32\n",
      "15/06/21 12:30:00 -W- Could not load xy file for video 33\n",
      "15/06/21 12:30:00 -W- Could not load xy file for video 34\n",
      "15/06/21 12:30:00 -W- Could not load xy file for video 35\n",
      "15/06/21 12:30:00 -W- Could not load xy file for video 36\n",
      "15/06/21 12:30:00 -W- Could not load xy file for video 37\n",
      "15/06/21 12:30:00 -W- Could not load xy file for video 38\n",
      "15/06/21 12:30:00 -W- Could not load xy file for video 39\n",
      "15/06/21 12:30:00 -W- Could not load xy file for video 40\n",
      "15/06/21 12:30:00 -W- Could not load xy file for video 41\n",
      "15/06/21 12:30:00 -W- Could not load xy file for video 42\n",
      "15/06/21 12:30:00 -W- Could not load xy file for video 43\n",
      "15/06/21 12:30:00 -W- Could not load xy file for video 44\n",
      "15/06/21 12:30:00 -W- Could not load xy file for video 45\n",
      "15/06/21 12:30:00 -W- Could not load xy file for video 46\n",
      "15/06/21 12:30:00 -W- Could not load xy file for video 47\n",
      "15/06/21 12:30:00 -W- Could not load xy file for video 48\n",
      "15/06/21 12:30:00 -W- Could not load xy file for video 49\n",
      "15/06/21 12:30:00 -W- Could not load xy file for video 50\n",
      "15/06/21 12:30:00 -W- Could not load xy file for video 51\n",
      "15/06/21 12:30:00 -W- Could not load xy file for video 52\n",
      "15/06/21 12:30:00 -W- Could not load xy file for video 53\n",
      "15/06/21 12:30:00 -W- Could not load xy file for video 54\n",
      "15/06/21 12:30:00 -W- Could not load xy file for video 55\n",
      "15/06/21 12:30:00 -W- Could not load xy file for video 56\n",
      "15/06/21 12:30:00 -W- Could not load xy file for video 57\n",
      "15/06/21 12:30:00 -W- Could not load xy file for video 58\n",
      "15/06/21 12:30:00 -W- Could not load xy file for video 59\n",
      "15/06/21 12:30:00 -W- Could not load xy file for video 60\n",
      "15/06/21 12:30:00 -W- Could not load xy file for video 61\n",
      "15/06/21 12:30:00 -W- Could not load xy file for video 62\n",
      "15/06/21 12:30:00 -W- Could not load xy file for video 63\n",
      "15/06/21 12:30:00 -W- Could not load xy file for video 64\n",
      "15/06/21 12:30:00 -W- Could not load xy file for video 65\n",
      "15/06/21 12:30:00 -W- Could not load xy file for video 66\n",
      "15/06/21 12:30:00 -W- Could not load xy file for video 67\n",
      "15/06/21 12:30:00 -W- Could not load xy file for video 68\n",
      "15/06/21 12:30:00 -W- Could not load xy file for video 69\n",
      "15/06/21 12:30:00 -W- Could not load xy file for video 70\n",
      "15/06/21 12:30:00 -W- Could not load xy file for video 71\n",
      "15/06/21 12:30:00 -W- Could not load xy file for video 72\n",
      "15/06/21 12:30:00 -W- Could not load xy file for video 73\n",
      "15/06/21 12:30:00 -W- Could not load xy file for video 74\n",
      "15/06/21 12:30:00 -W- Could not load xy file for video 75\n",
      "15/06/21 12:30:00 -W- Could not load xy file for video 76\n",
      "15/06/21 12:30:00 -W- Could not load xy file for video 77\n",
      "15/06/21 12:30:00 -W- Could not load xy file for video 78\n",
      "15/06/21 12:30:00 -W- Could not load xy file for video 79\n",
      "15/06/21 12:30:00 -W- Could not load xy file for video 80\n",
      "15/06/21 12:30:00 -W- Could not load xy file for video 81\n",
      "15/06/21 12:30:00 -W- Could not load xy file for video 82\n",
      "15/06/21 12:30:00 -W- Could not load xy file for video 83\n",
      "15/06/21 12:30:00 -W- Could not load xy file for video 84\n",
      "15/06/21 12:30:00 -W- Could not load xy file for video 85\n",
      "15/06/21 12:30:00 -W- Could not load xy file for video 86\n",
      "15/06/21 12:30:00 -W- Could not load xy file for video 87\n",
      "15/06/21 12:30:00 -W- Could not load xy file for video 88\n",
      "15/06/21 12:30:00 -W- Could not load xy file for video 89\n",
      "15/06/21 12:30:00 -W- Could not load xy file for video 90\n",
      "15/06/21 12:30:00 -W- Could not load xy file for video 91\n",
      "15/06/21 12:30:00 -W- Could not load xy file for video 92\n",
      "15/06/21 12:30:00 -W- Could not load xy file for video 93\n",
      "15/06/21 12:30:00 -W- Could not load xy file for video 94\n",
      "15/06/21 12:30:00 -W- Could not load xy file for video 95\n",
      "15/06/21 12:30:00 -W- Could not load xy file for video 96\n",
      "15/06/21 12:30:00 -W- Could not load xy file for video 97\n",
      "15/06/21 12:30:00 -W- Could not load xy file for video 98\n",
      "15/06/21 12:30:00 -W- Could not load xy file for video 99\n",
      "15/06/21 12:30:00 -W- Could not load xy file for video 100\n",
      "15/06/21 12:30:00 -W- Could not load xy file for video 101\n",
      "15/06/21 12:30:00 -W- Could not load xy file for video 102\n",
      "15/06/21 12:30:00 -W- Could not load xy file for video 103\n",
      "15/06/21 12:30:00 -W- Could not load xy file for video 104\n",
      "15/06/21 12:30:00 -W- Could not load xy file for video 105\n",
      "15/06/21 12:30:00 -W- Could not load xy file for video 106\n",
      "15/06/21 12:30:00 -W- Could not load xy file for video 107\n",
      "15/06/21 12:30:00 -W- Could not load xy file for video 108\n",
      "15/06/21 12:30:00 -W- Could not load xy file for video 109\n",
      "15/06/21 12:30:00 -W- Could not load xy file for video 110\n",
      "15/06/21 12:30:00 -W- Could not load xy file for video 111\n",
      "15/06/21 12:30:00 -W- Could not load xy file for video 112\n",
      "15/06/21 12:30:00 -W- Could not load xy file for video 113\n",
      "15/06/21 12:30:00 -W- Could not load xy file for video 114\n",
      "15/06/21 12:30:00 -W- Could not load xy file for video 115\n",
      "15/06/21 12:30:00 -W- Could not load xy file for video 116\n",
      "15/06/21 12:30:00 -W- Could not load xy file for video 117\n",
      "15/06/21 12:30:00 -W- Could not load xy file for video 118\n",
      "15/06/21 12:30:00 -W- Could not load xy file for video 119\n",
      "15/06/21 12:30:00 -W- Could not load xy file for video 120\n",
      "15/06/21 12:30:00 -W- Could not load xy file for video 121\n",
      "15/06/21 12:30:00 -W- Could not load xy file for video 122\n",
      "15/06/21 12:30:00 -W- Could not load xy file for video 123\n",
      "15/06/21 12:30:00 -W- Could not load xy file for video 124\n",
      "15/06/21 12:30:00 -W- Could not load xy file for video 125\n",
      "15/06/21 12:30:00 -W- Could not load xy file for video 126\n",
      "15/06/21 12:30:00 -W- Could not load xy file for video 127\n",
      "15/06/21 12:30:00 -W- Could not load xy file for video 128\n",
      "15/06/21 12:30:00 -W- Could not load xy file for video 129\n",
      "15/06/21 12:30:00 -W- Could not load xy file for video 130\n",
      "15/06/21 12:30:00 -W- Could not load xy file for video 131\n",
      "15/06/21 12:30:00 -W- Could not load xy file for video 132\n",
      "15/06/21 12:30:00 -W- Could not load xy file for video 133\n",
      "15/06/21 12:30:00 -W- Could not load xy file for video 134\n",
      "15/06/21 12:30:00 -W- Could not load xy file for video 135\n",
      "15/06/21 12:30:00 -W- Could not load xy file for video 136\n",
      "15/06/21 12:30:00 -W- Could not load xy file for video 137\n",
      "15/06/21 12:30:00 -W- Could not load xy file for video 138\n",
      "15/06/21 12:30:00 -W- Could not load xy file for video 139\n",
      "15/06/21 12:30:00 -W- Could not load xy file for video 140\n",
      "15/06/21 12:30:00 -W- Could not load xy file for video 141\n",
      "15/06/21 12:30:00 -W- Could not load xy file for video 142\n",
      "15/06/21 12:30:00 -W- Could not load xy file for video 143\n",
      "15/06/21 12:30:00 -W- Could not load xy file for video 144\n",
      "15/06/21 12:30:00 -W- Could not load xy file for video 145\n",
      "15/06/21 12:30:00 -W- Could not load xy file for video 146\n",
      "15/06/21 12:30:00 -W- Could not load xy file for video 147\n",
      "15/06/21 12:30:00 -W- Could not load xy file for video 148\n",
      "15/06/21 12:30:00 -W- Could not load xy file for video 149\n",
      "15/06/21 12:30:00 -W- Could not load xy file for video 150\n",
      "15/06/21 12:30:00 -W- Could not read tracklet table \n"
     ]
    }
   ],
   "source": [
    "td = tpu.axTempData(e, movlist=e.movlist)\n",
    "cond = td.frmdata['S1'].values > 27.5\n",
    "cond = np.diff(cond.astype('float'))\n",
    "\n",
    "ev_onset = np.where(cond == 1)[0] + 2\n",
    "ev_offset = np.where(cond == -1)[0]\n",
    "ev_index = range(len(ev_onset))\n",
    "ev_temp = td.frmdata['S1'][ev_onset].values.astype('int')"
   ]
  },
  {
   "cell_type": "code",
   "execution_count": 12,
   "metadata": {},
   "outputs": [
    {
     "data": {
      "text/plain": [
       "9003"
      ]
     },
     "execution_count": 12,
     "metadata": {},
     "output_type": "execute_result"
    }
   ],
   "source": [
    "ev_offset[0]- ev_onset[0]"
   ]
  },
  {
   "cell_type": "code",
   "execution_count": null,
   "metadata": {},
   "outputs": [],
   "source": []
  }
 ],
 "metadata": {
  "kernelspec": {
   "display_name": "anTraX",
   "language": "python",
   "name": "antrax"
  },
  "language_info": {
   "codemirror_mode": {
    "name": "ipython",
    "version": 3
   },
   "file_extension": ".py",
   "mimetype": "text/x-python",
   "name": "python",
   "nbconvert_exporter": "python",
   "pygments_lexer": "ipython3",
   "version": "3.6.10"
  }
 },
 "nbformat": 4,
 "nbformat_minor": 2
}
